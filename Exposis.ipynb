{
  "nbformat": 4,
  "nbformat_minor": 0,
  "metadata": {
    "colab": {
      "provenance": [],
      "collapsed_sections": [],
      "mount_file_id": "1Ovz-tVF6p-k2985DFyef5K2NwcpUuR_f",
      "authorship_tag": "ABX9TyNPAC8v8Yp1ig5cPMJw01Eo",
      "include_colab_link": true
    },
    "kernelspec": {
      "name": "python3",
      "display_name": "Python 3"
    },
    "language_info": {
      "name": "python"
    }
  },
  "cells": [
    {
      "cell_type": "markdown",
      "metadata": {
        "id": "view-in-github",
        "colab_type": "text"
      },
      "source": [
        "<a href=\"https://colab.research.google.com/github/jwalith/Exposis/blob/main/Exposis.ipynb\" target=\"_parent\"><img src=\"https://colab.research.google.com/assets/colab-badge.svg\" alt=\"Open In Colab\"/></a>"
      ]
    },
    {
      "cell_type": "code",
      "execution_count": null,
      "metadata": {
        "id": "o2oKS62EJ4oN"
      },
      "outputs": [],
      "source": [
        "import pandas as pd"
      ]
    },
    {
      "cell_type": "code",
      "source": [
        "import numpy as np"
      ],
      "metadata": {
        "id": "prSPDoUhb-Hq"
      },
      "execution_count": null,
      "outputs": []
    },
    {
      "cell_type": "code",
      "source": [
        "data = pd.read_csv(\"/content/drive/MyDrive/50_Startups.csv\")"
      ],
      "metadata": {
        "id": "-gz3PdkAcAfA"
      },
      "execution_count": null,
      "outputs": []
    },
    {
      "cell_type": "code",
      "source": [
        "dnup = data.to_numpy()"
      ],
      "metadata": {
        "id": "2V-YJF3kcL8z"
      },
      "execution_count": null,
      "outputs": []
    },
    {
      "cell_type": "code",
      "source": [
        "data.shape"
      ],
      "metadata": {
        "colab": {
          "base_uri": "https://localhost:8080/"
        },
        "id": "2PiHPGmicSrZ",
        "outputId": "0cc29c8f-ad99-41ad-90d5-c1faeb76ec49"
      },
      "execution_count": null,
      "outputs": [
        {
          "output_type": "execute_result",
          "data": {
            "text/plain": [
              "(50, 4)"
            ]
          },
          "metadata": {},
          "execution_count": 10
        }
      ]
    },
    {
      "cell_type": "code",
      "source": [
        "dnup\n"
      ],
      "metadata": {
        "colab": {
          "base_uri": "https://localhost:8080/"
        },
        "id": "iJOAmjv7cUsE",
        "outputId": "61f33ecf-20f3-4c34-e4a6-eb0b9d800851"
      },
      "execution_count": null,
      "outputs": [
        {
          "output_type": "execute_result",
          "data": {
            "text/plain": [
              "array([[165349.2 , 136897.8 , 471784.1 , 192261.83],\n",
              "       [162597.7 , 151377.59, 443898.53, 191792.06],\n",
              "       [153441.51, 101145.55, 407934.54, 191050.39],\n",
              "       [144372.41, 118671.85, 383199.62, 182901.99],\n",
              "       [142107.34,  91391.77, 366168.42, 166187.94],\n",
              "       [131876.9 ,  99814.71, 362861.36, 156991.12],\n",
              "       [134615.46, 147198.87, 127716.82, 156122.51],\n",
              "       [130298.13, 145530.06, 323876.68, 155752.6 ],\n",
              "       [120542.52, 148718.95, 311613.29, 152211.77],\n",
              "       [123334.88, 108679.17, 304981.62, 149759.96],\n",
              "       [101913.08, 110594.11, 229160.95, 146121.95],\n",
              "       [100671.96,  91790.61, 249744.55, 144259.4 ],\n",
              "       [ 93863.75, 127320.38, 249839.44, 141585.52],\n",
              "       [ 91992.39, 135495.07, 252664.93, 134307.35],\n",
              "       [119943.24, 156547.42, 256512.92, 132602.65],\n",
              "       [114523.61, 122616.84, 261776.23, 129917.04],\n",
              "       [ 78013.11, 121597.55, 264346.06, 126992.93],\n",
              "       [ 94657.16, 145077.58, 282574.31, 125370.37],\n",
              "       [ 91749.16, 114175.79, 294919.57, 124266.9 ],\n",
              "       [ 86419.7 , 153514.11,      0.  , 122776.86],\n",
              "       [ 76253.86, 113867.3 , 298664.47, 118474.03],\n",
              "       [ 78389.47, 153773.43, 299737.29, 111313.02],\n",
              "       [ 73994.56, 122782.75, 303319.26, 110352.25],\n",
              "       [ 67532.53, 105751.03, 304768.73, 108733.99],\n",
              "       [ 77044.01,  99281.34, 140574.81, 108552.04],\n",
              "       [ 64664.71, 139553.16, 137962.62, 107404.34],\n",
              "       [ 75328.87, 144135.98, 134050.07, 105733.54],\n",
              "       [ 72107.6 , 127864.55, 353183.81, 105008.31],\n",
              "       [ 66051.52, 182645.56, 118148.2 , 103282.38],\n",
              "       [ 65605.48, 153032.06, 107138.38, 101004.64],\n",
              "       [ 61994.48, 115641.28,  91131.24,  99937.59],\n",
              "       [ 61136.38, 152701.92,  88218.23,  97483.56],\n",
              "       [ 63408.86, 129219.61,  46085.25,  97427.84],\n",
              "       [ 55493.95, 103057.49, 214634.81,  96778.92],\n",
              "       [ 46426.07, 157693.92, 210797.67,  96712.8 ],\n",
              "       [ 46014.02,  85047.44, 205517.64,  96479.51],\n",
              "       [ 28663.76, 127056.21, 201126.82,  90708.19],\n",
              "       [ 44069.95,  51283.14, 197029.42,  89949.14],\n",
              "       [ 20229.59,  65947.93, 185265.1 ,  81229.06],\n",
              "       [ 38558.51,  82982.09, 174999.3 ,  81005.76],\n",
              "       [ 28754.33, 118546.05, 172795.67,  78239.91],\n",
              "       [ 27892.92,  84710.77, 164470.71,  77798.83],\n",
              "       [ 23640.93,  96189.63, 148001.11,  71498.49],\n",
              "       [ 15505.73, 127382.3 ,  35534.17,  69758.98],\n",
              "       [ 22177.74, 154806.14,  28334.72,  65200.33],\n",
              "       [  1000.23, 124153.04,   1903.93,  64926.08],\n",
              "       [  1315.46, 115816.21, 297114.46,  49490.75],\n",
              "       [     0.  , 135426.92,      0.  ,  42559.73],\n",
              "       [   542.05,  51743.15,      0.  ,  35673.41],\n",
              "       [     0.  , 116983.8 ,  45173.06,  14681.4 ]])"
            ]
          },
          "metadata": {},
          "execution_count": 11
        }
      ]
    },
    {
      "cell_type": "code",
      "source": [
        "dnup.shape"
      ],
      "metadata": {
        "colab": {
          "base_uri": "https://localhost:8080/"
        },
        "id": "D109FDMicxkS",
        "outputId": "bcaf33db-c073-47b3-cba3-48e36b3bd6de"
      },
      "execution_count": null,
      "outputs": [
        {
          "output_type": "execute_result",
          "data": {
            "text/plain": [
              "(50, 4)"
            ]
          },
          "metadata": {},
          "execution_count": 12
        }
      ]
    },
    {
      "cell_type": "code",
      "source": [
        "type(dnup)"
      ],
      "metadata": {
        "colab": {
          "base_uri": "https://localhost:8080/"
        },
        "id": "2yyP0zA7dOcI",
        "outputId": "9bce7957-8aaa-45df-842e-303be52f4afa"
      },
      "execution_count": null,
      "outputs": [
        {
          "output_type": "execute_result",
          "data": {
            "text/plain": [
              "numpy.ndarray"
            ]
          },
          "metadata": {},
          "execution_count": 13
        }
      ]
    },
    {
      "cell_type": "code",
      "source": [
        "train = dnup[0:40]"
      ],
      "metadata": {
        "id": "4oIFsC30dSnN"
      },
      "execution_count": null,
      "outputs": []
    },
    {
      "cell_type": "code",
      "source": [
        "test = dnup[40:]"
      ],
      "metadata": {
        "id": "QSVuCPw1dypt"
      },
      "execution_count": null,
      "outputs": []
    },
    {
      "cell_type": "code",
      "source": [
        "train.shape"
      ],
      "metadata": {
        "colab": {
          "base_uri": "https://localhost:8080/"
        },
        "id": "MmANUL-JeAAl",
        "outputId": "55d10b99-4e44-4ab3-c0cd-8709ab17005b"
      },
      "execution_count": null,
      "outputs": [
        {
          "output_type": "execute_result",
          "data": {
            "text/plain": [
              "(40, 4)"
            ]
          },
          "metadata": {},
          "execution_count": 16
        }
      ]
    },
    {
      "cell_type": "code",
      "source": [
        "train_features = train[:,0:-1]\n",
        "train_label =train[:,-1]"
      ],
      "metadata": {
        "id": "jf3C5S4WeGa6"
      },
      "execution_count": null,
      "outputs": []
    },
    {
      "cell_type": "code",
      "source": [
        "train_features.shape"
      ],
      "metadata": {
        "colab": {
          "base_uri": "https://localhost:8080/"
        },
        "id": "Hf4w_L8ZfB3w",
        "outputId": "3c0e0daa-72a7-4c30-9586-05d14566b3c1"
      },
      "execution_count": null,
      "outputs": [
        {
          "output_type": "execute_result",
          "data": {
            "text/plain": [
              "(40, 3)"
            ]
          },
          "metadata": {},
          "execution_count": 18
        }
      ]
    },
    {
      "cell_type": "code",
      "source": [
        "test_features = test[:,0:-1]\n",
        "test_label =test[:,-1]"
      ],
      "metadata": {
        "id": "nThNAsczfFNX"
      },
      "execution_count": null,
      "outputs": []
    },
    {
      "cell_type": "code",
      "source": [
        "train_features[0].shape"
      ],
      "metadata": {
        "colab": {
          "base_uri": "https://localhost:8080/"
        },
        "id": "t6Nu7KYyfU3y",
        "outputId": "1eb60e52-0aa0-4599-cbc8-1e6f85b3fff7"
      },
      "execution_count": null,
      "outputs": [
        {
          "output_type": "execute_result",
          "data": {
            "text/plain": [
              "(3,)"
            ]
          },
          "metadata": {},
          "execution_count": 20
        }
      ]
    },
    {
      "cell_type": "code",
      "source": [
        "train_label.shape"
      ],
      "metadata": {
        "colab": {
          "base_uri": "https://localhost:8080/"
        },
        "id": "iJ6jb_fbfZA3",
        "outputId": "2a84b528-af5c-4763-c5dc-43fc946ec3af"
      },
      "execution_count": null,
      "outputs": [
        {
          "output_type": "execute_result",
          "data": {
            "text/plain": [
              "(40,)"
            ]
          },
          "metadata": {},
          "execution_count": 21
        }
      ]
    },
    {
      "cell_type": "code",
      "source": [
        "from tensorflow.keras.models import Sequential"
      ],
      "metadata": {
        "id": "erTgmQlifkIC"
      },
      "execution_count": null,
      "outputs": []
    },
    {
      "cell_type": "code",
      "source": [
        "from tensorflow.keras.layers import Input, Dense, Dropout"
      ],
      "metadata": {
        "id": "trdwy2jBfmDK"
      },
      "execution_count": null,
      "outputs": []
    },
    {
      "cell_type": "code",
      "source": [
        "model = Sequential()\n",
        "model.add(Input(shape=(3,)))\n",
        "model.add(Dense(6,activation='relu'))\n",
        "model.add(Dropout(0.2))\n",
        "model.add(Dense(3,activation='relu'))\n",
        "model.add(Dropout(0.2))\n",
        "#model.add(Dense(1,activation='sigmoid'))\n",
        "model.add(Dense(16,activation='relu'))"
      ],
      "metadata": {
        "id": "K5mNz7bbgXow"
      },
      "execution_count": null,
      "outputs": []
    },
    {
      "cell_type": "code",
      "source": [
        "model.summary()"
      ],
      "metadata": {
        "colab": {
          "base_uri": "https://localhost:8080/"
        },
        "id": "1EZmC58ClQmg",
        "outputId": "db06ec17-4c53-4ea8-d44b-365cfd06da76"
      },
      "execution_count": null,
      "outputs": [
        {
          "output_type": "stream",
          "name": "stdout",
          "text": [
            "Model: \"sequential\"\n",
            "_________________________________________________________________\n",
            " Layer (type)                Output Shape              Param #   \n",
            "=================================================================\n",
            " dense (Dense)               (None, 6)                 24        \n",
            "                                                                 \n",
            " dropout (Dropout)           (None, 6)                 0         \n",
            "                                                                 \n",
            " dense_1 (Dense)             (None, 3)                 21        \n",
            "                                                                 \n",
            " dropout_1 (Dropout)         (None, 3)                 0         \n",
            "                                                                 \n",
            " dense_2 (Dense)             (None, 16)                64        \n",
            "                                                                 \n",
            "=================================================================\n",
            "Total params: 109\n",
            "Trainable params: 109\n",
            "Non-trainable params: 0\n",
            "_________________________________________________________________\n"
          ]
        }
      ]
    },
    {
      "cell_type": "code",
      "source": [
        "model.compile(optimizer='adam', loss = 'mse' )"
      ],
      "metadata": {
        "id": "DjD-RCYihh-5"
      },
      "execution_count": null,
      "outputs": []
    },
    {
      "cell_type": "code",
      "source": [
        "model.fit(train_features,train_label,epochs=50,validation_data=(test_features,test_label))"
      ],
      "metadata": {
        "colab": {
          "base_uri": "https://localhost:8080/"
        },
        "id": "Yjc7fwnriXse",
        "outputId": "508e4416-0664-462f-c484-301ef0fc38e4"
      },
      "execution_count": null,
      "outputs": [
        {
          "output_type": "stream",
          "name": "stdout",
          "text": [
            "Epoch 1/50\n",
            "2/2 [==============================] - 1s 225ms/step - loss: 10796898304.0000 - val_loss: 2638673152.0000\n",
            "Epoch 2/50\n",
            "2/2 [==============================] - 0s 45ms/step - loss: 11084426240.0000 - val_loss: 2629728768.0000\n",
            "Epoch 3/50\n",
            "2/2 [==============================] - 0s 50ms/step - loss: 10891905024.0000 - val_loss: 2620542464.0000\n",
            "Epoch 4/50\n",
            "2/2 [==============================] - 0s 44ms/step - loss: 10766624768.0000 - val_loss: 2610861056.0000\n",
            "Epoch 5/50\n",
            "2/2 [==============================] - 0s 43ms/step - loss: 10687145984.0000 - val_loss: 2601601536.0000\n",
            "Epoch 6/50\n",
            "2/2 [==============================] - 0s 67ms/step - loss: 10713033728.0000 - val_loss: 2591845376.0000\n",
            "Epoch 7/50\n",
            "2/2 [==============================] - 0s 71ms/step - loss: 10994526208.0000 - val_loss: 2582600192.0000\n",
            "Epoch 8/50\n",
            "2/2 [==============================] - 0s 47ms/step - loss: 10427567104.0000 - val_loss: 2573993472.0000\n",
            "Epoch 9/50\n",
            "2/2 [==============================] - 0s 41ms/step - loss: 10967864320.0000 - val_loss: 2565926400.0000\n",
            "Epoch 10/50\n",
            "2/2 [==============================] - 0s 26ms/step - loss: 10223722496.0000 - val_loss: 2557199872.0000\n",
            "Epoch 11/50\n",
            "2/2 [==============================] - 0s 30ms/step - loss: 9622157312.0000 - val_loss: 2548037376.0000\n",
            "Epoch 12/50\n",
            "2/2 [==============================] - 0s 31ms/step - loss: 10370908160.0000 - val_loss: 2538714368.0000\n",
            "Epoch 13/50\n",
            "2/2 [==============================] - 0s 31ms/step - loss: 10839782400.0000 - val_loss: 2529100800.0000\n",
            "Epoch 14/50\n",
            "2/2 [==============================] - 0s 36ms/step - loss: 10559720448.0000 - val_loss: 2519335936.0000\n",
            "Epoch 15/50\n",
            "2/2 [==============================] - 0s 33ms/step - loss: 10224318464.0000 - val_loss: 2509573888.0000\n",
            "Epoch 16/50\n",
            "2/2 [==============================] - 0s 31ms/step - loss: 10408419328.0000 - val_loss: 2500779520.0000\n",
            "Epoch 17/50\n",
            "2/2 [==============================] - 0s 31ms/step - loss: 10416444416.0000 - val_loss: 2492869888.0000\n",
            "Epoch 18/50\n",
            "2/2 [==============================] - 0s 30ms/step - loss: 10958697472.0000 - val_loss: 2485709312.0000\n",
            "Epoch 19/50\n",
            "2/2 [==============================] - 0s 49ms/step - loss: 10960466944.0000 - val_loss: 2479860224.0000\n",
            "Epoch 20/50\n",
            "2/2 [==============================] - 0s 29ms/step - loss: 10937061376.0000 - val_loss: 2474865408.0000\n",
            "Epoch 21/50\n",
            "2/2 [==============================] - 0s 29ms/step - loss: 9986549760.0000 - val_loss: 2468990464.0000\n",
            "Epoch 22/50\n",
            "2/2 [==============================] - 0s 30ms/step - loss: 9711700992.0000 - val_loss: 2462894336.0000\n",
            "Epoch 23/50\n",
            "2/2 [==============================] - 0s 32ms/step - loss: 11098310656.0000 - val_loss: 2456772864.0000\n",
            "Epoch 24/50\n",
            "2/2 [==============================] - 0s 31ms/step - loss: 10237586432.0000 - val_loss: 2451095808.0000\n",
            "Epoch 25/50\n",
            "2/2 [==============================] - 0s 30ms/step - loss: 9490344960.0000 - val_loss: 2445013248.0000\n",
            "Epoch 26/50\n",
            "2/2 [==============================] - 0s 29ms/step - loss: 10201786368.0000 - val_loss: 2438868480.0000\n",
            "Epoch 27/50\n",
            "2/2 [==============================] - 0s 29ms/step - loss: 9866722304.0000 - val_loss: 2432090624.0000\n",
            "Epoch 28/50\n",
            "2/2 [==============================] - 0s 33ms/step - loss: 9928178688.0000 - val_loss: 2425048832.0000\n",
            "Epoch 29/50\n",
            "2/2 [==============================] - 0s 30ms/step - loss: 10318548992.0000 - val_loss: 2418737152.0000\n",
            "Epoch 30/50\n",
            "2/2 [==============================] - 0s 31ms/step - loss: 9963479040.0000 - val_loss: 2413780480.0000\n",
            "Epoch 31/50\n",
            "2/2 [==============================] - 0s 29ms/step - loss: 9518457856.0000 - val_loss: 2409286144.0000\n",
            "Epoch 32/50\n",
            "2/2 [==============================] - 0s 38ms/step - loss: 10348779520.0000 - val_loss: 2405795584.0000\n",
            "Epoch 33/50\n",
            "2/2 [==============================] - 0s 31ms/step - loss: 9687922688.0000 - val_loss: 2401945600.0000\n",
            "Epoch 34/50\n",
            "2/2 [==============================] - 0s 48ms/step - loss: 9745727488.0000 - val_loss: 2397507072.0000\n",
            "Epoch 35/50\n",
            "2/2 [==============================] - 0s 28ms/step - loss: 10654823424.0000 - val_loss: 2393188864.0000\n",
            "Epoch 36/50\n",
            "2/2 [==============================] - 0s 50ms/step - loss: 10761161728.0000 - val_loss: 2388797184.0000\n",
            "Epoch 37/50\n",
            "2/2 [==============================] - 0s 28ms/step - loss: 10244970496.0000 - val_loss: 2385415168.0000\n",
            "Epoch 38/50\n",
            "2/2 [==============================] - 0s 29ms/step - loss: 10169029632.0000 - val_loss: 2382947584.0000\n",
            "Epoch 39/50\n",
            "2/2 [==============================] - 0s 28ms/step - loss: 9879889920.0000 - val_loss: 2380837888.0000\n",
            "Epoch 40/50\n",
            "2/2 [==============================] - 0s 31ms/step - loss: 9933847552.0000 - val_loss: 2378710784.0000\n",
            "Epoch 41/50\n",
            "2/2 [==============================] - 0s 29ms/step - loss: 10212296704.0000 - val_loss: 2376030464.0000\n",
            "Epoch 42/50\n",
            "2/2 [==============================] - 0s 32ms/step - loss: 9737822208.0000 - val_loss: 2373297408.0000\n",
            "Epoch 43/50\n",
            "2/2 [==============================] - 0s 52ms/step - loss: 10025502720.0000 - val_loss: 2370740224.0000\n",
            "Epoch 44/50\n",
            "2/2 [==============================] - 0s 28ms/step - loss: 9786340352.0000 - val_loss: 2368937472.0000\n",
            "Epoch 45/50\n",
            "2/2 [==============================] - 0s 30ms/step - loss: 9828482048.0000 - val_loss: 2367645440.0000\n",
            "Epoch 46/50\n",
            "2/2 [==============================] - 0s 29ms/step - loss: 10357661696.0000 - val_loss: 2366451968.0000\n",
            "Epoch 47/50\n",
            "2/2 [==============================] - 0s 28ms/step - loss: 10581219328.0000 - val_loss: 2365801984.0000\n",
            "Epoch 48/50\n",
            "2/2 [==============================] - 0s 28ms/step - loss: 10373462016.0000 - val_loss: 2364922880.0000\n",
            "Epoch 49/50\n",
            "2/2 [==============================] - 0s 29ms/step - loss: 10188716032.0000 - val_loss: 2363472384.0000\n",
            "Epoch 50/50\n",
            "2/2 [==============================] - 0s 28ms/step - loss: 9733765120.0000 - val_loss: 2362022144.0000\n"
          ]
        },
        {
          "output_type": "execute_result",
          "data": {
            "text/plain": [
              "<keras.callbacks.History at 0x7f58e25b8c90>"
            ]
          },
          "metadata": {},
          "execution_count": 91
        }
      ]
    },
    {
      "cell_type": "code",
      "source": [
        "model.save('startup.h5')"
      ],
      "metadata": {
        "id": "653znhYS3Co6"
      },
      "execution_count": null,
      "outputs": []
    },
    {
      "cell_type": "code",
      "source": [
        "pwd"
      ],
      "metadata": {
        "colab": {
          "base_uri": "https://localhost:8080/",
          "height": 35
        },
        "id": "J0cd-dxa4pGT",
        "outputId": "46eb238f-e379-4de8-f949-44b6683e7ade"
      },
      "execution_count": null,
      "outputs": [
        {
          "output_type": "execute_result",
          "data": {
            "text/plain": [
              "'/content'"
            ],
            "application/vnd.google.colaboratory.intrinsic+json": {
              "type": "string"
            }
          },
          "metadata": {},
          "execution_count": 30
        }
      ]
    },
    {
      "cell_type": "markdown",
      "source": [
        "**1.Linear Regression**"
      ],
      "metadata": {
        "id": "b1tE2Igl3bBB"
      }
    },
    {
      "cell_type": "code",
      "source": [
        "from sklearn import linear_model"
      ],
      "metadata": {
        "id": "DmnoJMxH4tpx"
      },
      "execution_count": null,
      "outputs": []
    },
    {
      "cell_type": "code",
      "source": [
        "reg = linear_model.LinearRegression()"
      ],
      "metadata": {
        "id": "soF-6RMM45ss"
      },
      "execution_count": null,
      "outputs": []
    },
    {
      "cell_type": "code",
      "source": [
        "data.head()"
      ],
      "metadata": {
        "colab": {
          "base_uri": "https://localhost:8080/",
          "height": 206
        },
        "id": "Pe_Q__gxAivV",
        "outputId": "875414c3-b1b3-4d5f-ab93-a5bb3d3397a8"
      },
      "execution_count": null,
      "outputs": [
        {
          "output_type": "execute_result",
          "data": {
            "text/plain": [
              "   R&D Spend  Administration  Marketing Spend     Profit\n",
              "0  165349.20       136897.80        471784.10  192261.83\n",
              "1  162597.70       151377.59        443898.53  191792.06\n",
              "2  153441.51       101145.55        407934.54  191050.39\n",
              "3  144372.41       118671.85        383199.62  182901.99\n",
              "4  142107.34        91391.77        366168.42  166187.94"
            ],
            "text/html": [
              "\n",
              "  <div id=\"df-fa295289-c71e-49ce-b7d5-019e7cb8b029\">\n",
              "    <div class=\"colab-df-container\">\n",
              "      <div>\n",
              "<style scoped>\n",
              "    .dataframe tbody tr th:only-of-type {\n",
              "        vertical-align: middle;\n",
              "    }\n",
              "\n",
              "    .dataframe tbody tr th {\n",
              "        vertical-align: top;\n",
              "    }\n",
              "\n",
              "    .dataframe thead th {\n",
              "        text-align: right;\n",
              "    }\n",
              "</style>\n",
              "<table border=\"1\" class=\"dataframe\">\n",
              "  <thead>\n",
              "    <tr style=\"text-align: right;\">\n",
              "      <th></th>\n",
              "      <th>R&amp;D Spend</th>\n",
              "      <th>Administration</th>\n",
              "      <th>Marketing Spend</th>\n",
              "      <th>Profit</th>\n",
              "    </tr>\n",
              "  </thead>\n",
              "  <tbody>\n",
              "    <tr>\n",
              "      <th>0</th>\n",
              "      <td>165349.20</td>\n",
              "      <td>136897.80</td>\n",
              "      <td>471784.10</td>\n",
              "      <td>192261.83</td>\n",
              "    </tr>\n",
              "    <tr>\n",
              "      <th>1</th>\n",
              "      <td>162597.70</td>\n",
              "      <td>151377.59</td>\n",
              "      <td>443898.53</td>\n",
              "      <td>191792.06</td>\n",
              "    </tr>\n",
              "    <tr>\n",
              "      <th>2</th>\n",
              "      <td>153441.51</td>\n",
              "      <td>101145.55</td>\n",
              "      <td>407934.54</td>\n",
              "      <td>191050.39</td>\n",
              "    </tr>\n",
              "    <tr>\n",
              "      <th>3</th>\n",
              "      <td>144372.41</td>\n",
              "      <td>118671.85</td>\n",
              "      <td>383199.62</td>\n",
              "      <td>182901.99</td>\n",
              "    </tr>\n",
              "    <tr>\n",
              "      <th>4</th>\n",
              "      <td>142107.34</td>\n",
              "      <td>91391.77</td>\n",
              "      <td>366168.42</td>\n",
              "      <td>166187.94</td>\n",
              "    </tr>\n",
              "  </tbody>\n",
              "</table>\n",
              "</div>\n",
              "      <button class=\"colab-df-convert\" onclick=\"convertToInteractive('df-fa295289-c71e-49ce-b7d5-019e7cb8b029')\"\n",
              "              title=\"Convert this dataframe to an interactive table.\"\n",
              "              style=\"display:none;\">\n",
              "        \n",
              "  <svg xmlns=\"http://www.w3.org/2000/svg\" height=\"24px\"viewBox=\"0 0 24 24\"\n",
              "       width=\"24px\">\n",
              "    <path d=\"M0 0h24v24H0V0z\" fill=\"none\"/>\n",
              "    <path d=\"M18.56 5.44l.94 2.06.94-2.06 2.06-.94-2.06-.94-.94-2.06-.94 2.06-2.06.94zm-11 1L8.5 8.5l.94-2.06 2.06-.94-2.06-.94L8.5 2.5l-.94 2.06-2.06.94zm10 10l.94 2.06.94-2.06 2.06-.94-2.06-.94-.94-2.06-.94 2.06-2.06.94z\"/><path d=\"M17.41 7.96l-1.37-1.37c-.4-.4-.92-.59-1.43-.59-.52 0-1.04.2-1.43.59L10.3 9.45l-7.72 7.72c-.78.78-.78 2.05 0 2.83L4 21.41c.39.39.9.59 1.41.59.51 0 1.02-.2 1.41-.59l7.78-7.78 2.81-2.81c.8-.78.8-2.07 0-2.86zM5.41 20L4 18.59l7.72-7.72 1.47 1.35L5.41 20z\"/>\n",
              "  </svg>\n",
              "      </button>\n",
              "      \n",
              "  <style>\n",
              "    .colab-df-container {\n",
              "      display:flex;\n",
              "      flex-wrap:wrap;\n",
              "      gap: 12px;\n",
              "    }\n",
              "\n",
              "    .colab-df-convert {\n",
              "      background-color: #E8F0FE;\n",
              "      border: none;\n",
              "      border-radius: 50%;\n",
              "      cursor: pointer;\n",
              "      display: none;\n",
              "      fill: #1967D2;\n",
              "      height: 32px;\n",
              "      padding: 0 0 0 0;\n",
              "      width: 32px;\n",
              "    }\n",
              "\n",
              "    .colab-df-convert:hover {\n",
              "      background-color: #E2EBFA;\n",
              "      box-shadow: 0px 1px 2px rgba(60, 64, 67, 0.3), 0px 1px 3px 1px rgba(60, 64, 67, 0.15);\n",
              "      fill: #174EA6;\n",
              "    }\n",
              "\n",
              "    [theme=dark] .colab-df-convert {\n",
              "      background-color: #3B4455;\n",
              "      fill: #D2E3FC;\n",
              "    }\n",
              "\n",
              "    [theme=dark] .colab-df-convert:hover {\n",
              "      background-color: #434B5C;\n",
              "      box-shadow: 0px 1px 3px 1px rgba(0, 0, 0, 0.15);\n",
              "      filter: drop-shadow(0px 1px 2px rgba(0, 0, 0, 0.3));\n",
              "      fill: #FFFFFF;\n",
              "    }\n",
              "  </style>\n",
              "\n",
              "      <script>\n",
              "        const buttonEl =\n",
              "          document.querySelector('#df-fa295289-c71e-49ce-b7d5-019e7cb8b029 button.colab-df-convert');\n",
              "        buttonEl.style.display =\n",
              "          google.colab.kernel.accessAllowed ? 'block' : 'none';\n",
              "\n",
              "        async function convertToInteractive(key) {\n",
              "          const element = document.querySelector('#df-fa295289-c71e-49ce-b7d5-019e7cb8b029');\n",
              "          const dataTable =\n",
              "            await google.colab.kernel.invokeFunction('convertToInteractive',\n",
              "                                                     [key], {});\n",
              "          if (!dataTable) return;\n",
              "\n",
              "          const docLinkHtml = 'Like what you see? Visit the ' +\n",
              "            '<a target=\"_blank\" href=https://colab.research.google.com/notebooks/data_table.ipynb>data table notebook</a>'\n",
              "            + ' to learn more about interactive tables.';\n",
              "          element.innerHTML = '';\n",
              "          dataTable['output_type'] = 'display_data';\n",
              "          await google.colab.output.renderOutput(dataTable, element);\n",
              "          const docLink = document.createElement('div');\n",
              "          docLink.innerHTML = docLinkHtml;\n",
              "          element.appendChild(docLink);\n",
              "        }\n",
              "      </script>\n",
              "    </div>\n",
              "  </div>\n",
              "  "
            ]
          },
          "metadata": {},
          "execution_count": 33
        }
      ]
    },
    {
      "cell_type": "code",
      "source": [
        "Features = ['R&D Spend','Administration','Marketing Spend']"
      ],
      "metadata": {
        "id": "cGSaPV-ZHVXx"
      },
      "execution_count": null,
      "outputs": []
    },
    {
      "cell_type": "code",
      "source": [
        "reg.fit(data[['R&D Spend','Administration','Marketing Spend']], data.Profit)"
      ],
      "metadata": {
        "colab": {
          "base_uri": "https://localhost:8080/"
        },
        "id": "dShGlvmaAtkn",
        "outputId": "c166edbf-095e-44c8-daa7-58f087b5b7f3"
      },
      "execution_count": null,
      "outputs": [
        {
          "output_type": "execute_result",
          "data": {
            "text/plain": [
              "LinearRegression()"
            ]
          },
          "metadata": {},
          "execution_count": 35
        }
      ]
    },
    {
      "cell_type": "code",
      "source": [
        "reg.coef_\n"
      ],
      "metadata": {
        "colab": {
          "base_uri": "https://localhost:8080/"
        },
        "id": "1MJyWd4AB8eV",
        "outputId": "bd739f37-124a-40c9-a81c-b4f9b5b66a60"
      },
      "execution_count": null,
      "outputs": [
        {
          "output_type": "execute_result",
          "data": {
            "text/plain": [
              "array([ 0.80571505, -0.02681597,  0.02722806])"
            ]
          },
          "metadata": {},
          "execution_count": 36
        }
      ]
    },
    {
      "cell_type": "code",
      "source": [
        "reg.intercept_"
      ],
      "metadata": {
        "colab": {
          "base_uri": "https://localhost:8080/"
        },
        "id": "ojftRt87CDNP",
        "outputId": "9b218b90-fd1a-44fc-a21d-658249cf8eed"
      },
      "execution_count": null,
      "outputs": [
        {
          "output_type": "execute_result",
          "data": {
            "text/plain": [
              "50122.19298986524"
            ]
          },
          "metadata": {},
          "execution_count": 37
        }
      ]
    },
    {
      "cell_type": "code",
      "source": [
        "reg.predict([(142107.34\t,91391.77,366168.42)])"
      ],
      "metadata": {
        "colab": {
          "base_uri": "https://localhost:8080/"
        },
        "id": "q93uZSXpCLyE",
        "outputId": "817d2c1a-9da5-43c0-8d5e-4deb32ccf7a1"
      },
      "execution_count": null,
      "outputs": [
        {
          "output_type": "stream",
          "name": "stderr",
          "text": [
            "/usr/local/lib/python3.7/dist-packages/sklearn/base.py:451: UserWarning: X does not have valid feature names, but LinearRegression was fitted with feature names\n",
            "  \"X does not have valid feature names, but\"\n"
          ]
        },
        {
          "output_type": "execute_result",
          "data": {
            "text/plain": [
              "array([172139.51418327])"
            ]
          },
          "metadata": {},
          "execution_count": 38
        }
      ]
    },
    {
      "cell_type": "code",
      "source": [
        "x =data[Features]"
      ],
      "metadata": {
        "id": "IUGI_rbnCgh_"
      },
      "execution_count": null,
      "outputs": []
    },
    {
      "cell_type": "code",
      "source": [
        "y=data['Profit']"
      ],
      "metadata": {
        "id": "5_e9jga8HjhN"
      },
      "execution_count": null,
      "outputs": []
    },
    {
      "cell_type": "code",
      "source": [
        "from sklearn.model_selection import train_test_split"
      ],
      "metadata": {
        "id": "ke_mEGQhHqn6"
      },
      "execution_count": null,
      "outputs": []
    },
    {
      "cell_type": "code",
      "source": [
        "x_train, x_test, y_train, y_test = train_test_split(x,y)"
      ],
      "metadata": {
        "id": "6RbxcV7FHyWx"
      },
      "execution_count": null,
      "outputs": []
    },
    {
      "cell_type": "code",
      "source": [
        "from sklearn.linear_model import LinearRegression"
      ],
      "metadata": {
        "id": "hHrqtcfBIoeg"
      },
      "execution_count": null,
      "outputs": []
    },
    {
      "cell_type": "code",
      "source": [
        "linreg = LinearRegression()"
      ],
      "metadata": {
        "id": "yJiXnHFHJYqZ"
      },
      "execution_count": null,
      "outputs": []
    },
    {
      "cell_type": "code",
      "source": [
        "linreg.fit(x_train,y_train)"
      ],
      "metadata": {
        "colab": {
          "base_uri": "https://localhost:8080/"
        },
        "id": "SrGav3f7JcDj",
        "outputId": "cc3bed1a-bbb2-4a97-cbf4-66143469d839"
      },
      "execution_count": null,
      "outputs": [
        {
          "output_type": "execute_result",
          "data": {
            "text/plain": [
              "LinearRegression()"
            ]
          },
          "metadata": {},
          "execution_count": 45
        }
      ]
    },
    {
      "cell_type": "code",
      "source": [
        "y_linpred = linreg.predict(x_test)"
      ],
      "metadata": {
        "id": "580AutHWJirf"
      },
      "execution_count": null,
      "outputs": []
    },
    {
      "cell_type": "code",
      "source": [
        "from sklearn import metrics"
      ],
      "metadata": {
        "id": "lZO9RQL-JtHV"
      },
      "execution_count": null,
      "outputs": []
    },
    {
      "cell_type": "code",
      "source": [
        "print(metrics.mean_squared_error(y_test,y_linpred))"
      ],
      "metadata": {
        "colab": {
          "base_uri": "https://localhost:8080/"
        },
        "id": "AB5oDIpCJ3eL",
        "outputId": "6b66dd62-9e87-48dd-b643-6c9420edb7d1"
      },
      "execution_count": null,
      "outputs": [
        {
          "output_type": "stream",
          "name": "stdout",
          "text": [
            "71775956.57202546\n"
          ]
        }
      ]
    },
    {
      "cell_type": "code",
      "source": [
        " from sklearn.metrics import mean_squared_error,mean_absolute_error,median_absolute_error,max_error\n",
        " print(mean_squared_error(y_test,y_linpred))\n",
        " print(mean_absolute_error(y_test, y_linpred))\n",
        " print(median_absolute_error(y_test, y_linpred))\n",
        " print(max_error(y_test, y_linpred))"
      ],
      "metadata": {
        "colab": {
          "base_uri": "https://localhost:8080/"
        },
        "id": "1Iy_6hWlKAVo",
        "outputId": "8f483167-9c16-4f92-f8c4-507af9ba4416"
      },
      "execution_count": null,
      "outputs": [
        {
          "output_type": "stream",
          "name": "stdout",
          "text": [
            "71775956.57202546\n",
            "7027.308813746572\n",
            "6348.404585115495\n",
            "16715.356954255825\n"
          ]
        }
      ]
    },
    {
      "cell_type": "code",
      "source": [
        "linreg.score(x_test,y_test)\n"
      ],
      "metadata": {
        "colab": {
          "base_uri": "https://localhost:8080/"
        },
        "id": "2-_ubbkMrqQI",
        "outputId": "1208766e-7042-4cd2-d52a-322b7e95d2dc"
      },
      "execution_count": null,
      "outputs": [
        {
          "output_type": "execute_result",
          "data": {
            "text/plain": [
              "0.9314223105185139"
            ]
          },
          "metadata": {},
          "execution_count": 53
        }
      ]
    },
    {
      "cell_type": "markdown",
      "source": [
        "**2.GradientBoostingRegressor**"
      ],
      "metadata": {
        "id": "Mes_Z-RtoNuQ"
      }
    },
    {
      "cell_type": "code",
      "source": [
        "from sklearn.ensemble import GradientBoostingRegressor"
      ],
      "metadata": {
        "id": "e2nIrkBDibok"
      },
      "execution_count": null,
      "outputs": []
    },
    {
      "cell_type": "code",
      "source": [
        "grad = GradientBoostingRegressor(random_state=0)\n",
        "grad.fit(x_train, y_train)\n",
        "\n"
      ],
      "metadata": {
        "colab": {
          "base_uri": "https://localhost:8080/"
        },
        "id": "rOR7lRInnUdG",
        "outputId": "09fdf00a-31cb-4032-9997-d8922859666b"
      },
      "execution_count": null,
      "outputs": [
        {
          "output_type": "execute_result",
          "data": {
            "text/plain": [
              "GradientBoostingRegressor(random_state=0)"
            ]
          },
          "metadata": {},
          "execution_count": 55
        }
      ]
    },
    {
      "cell_type": "code",
      "source": [
        "grad.score(x_test, y_test)"
      ],
      "metadata": {
        "colab": {
          "base_uri": "https://localhost:8080/"
        },
        "id": "RCjqqaIRnlJn",
        "outputId": "eea78ee6-6ecc-4f88-af6a-c4b7a8dd59cd"
      },
      "execution_count": null,
      "outputs": [
        {
          "output_type": "execute_result",
          "data": {
            "text/plain": [
              "0.8825757847803504"
            ]
          },
          "metadata": {},
          "execution_count": 56
        }
      ]
    },
    {
      "cell_type": "code",
      "source": [
        "from sklearn.ensemble import GradientBoostingClassifier"
      ],
      "metadata": {
        "id": "8-GAcHaRnuUg"
      },
      "execution_count": null,
      "outputs": []
    },
    {
      "cell_type": "code",
      "source": [
        "gradc = GradientBoostingRegressor(random_state=0)\n",
        "gradc.fit(x_train, y_train)"
      ],
      "metadata": {
        "colab": {
          "base_uri": "https://localhost:8080/"
        },
        "id": "I0owmqZooYf-",
        "outputId": "ead6fa11-1b34-42a0-d1aa-88fd2721f5a1"
      },
      "execution_count": null,
      "outputs": [
        {
          "output_type": "execute_result",
          "data": {
            "text/plain": [
              "GradientBoostingRegressor(random_state=0)"
            ]
          },
          "metadata": {},
          "execution_count": 58
        }
      ]
    },
    {
      "cell_type": "code",
      "source": [
        "gradc.score(x_test, y_test)"
      ],
      "metadata": {
        "colab": {
          "base_uri": "https://localhost:8080/"
        },
        "id": "xOGIn-L9ocBM",
        "outputId": "81f18957-f963-4333-a200-7122e32e02f0"
      },
      "execution_count": null,
      "outputs": [
        {
          "output_type": "execute_result",
          "data": {
            "text/plain": [
              "0.8825757847803504"
            ]
          },
          "metadata": {},
          "execution_count": 59
        }
      ]
    },
    {
      "cell_type": "code",
      "source": [
        "y_gradcpred = gradc.predict(x_test)\n",
        "print(metrics.mean_squared_error(y_test,y_gradcpred))\n",
        "print(mean_absolute_error(y_test, y_gradcpred))\n",
        "print(median_absolute_error(y_test, y_gradcpred))\n",
        "print(max_error(y_test, y_gradcpred))"
      ],
      "metadata": {
        "colab": {
          "base_uri": "https://localhost:8080/"
        },
        "id": "n6ZsCxTV28Qi",
        "outputId": "fe75f48e-de21-4723-e150-c19567971511"
      },
      "execution_count": null,
      "outputs": [
        {
          "output_type": "stream",
          "name": "stdout",
          "text": [
            "122900544.41663724\n",
            "8710.873649108735\n",
            "7755.665232503539\n",
            "25187.081950317603\n"
          ]
        }
      ]
    },
    {
      "cell_type": "markdown",
      "source": [
        "**3.RandomForest**"
      ],
      "metadata": {
        "id": "kJ38QDZCp66V"
      }
    },
    {
      "cell_type": "code",
      "source": [
        "from sklearn.ensemble import RandomForestRegressor"
      ],
      "metadata": {
        "id": "V2JO2XY6ofwQ"
      },
      "execution_count": null,
      "outputs": []
    },
    {
      "cell_type": "code",
      "source": [
        "fore = RandomForestRegressor(max_depth=2, random_state=0)\n",
        "fore.fit(x_train, y_train)"
      ],
      "metadata": {
        "colab": {
          "base_uri": "https://localhost:8080/"
        },
        "outputId": "8a9f9ac6-3632-4305-a44b-30aa09998929",
        "id": "2GN2SdISo6Ch"
      },
      "execution_count": null,
      "outputs": [
        {
          "output_type": "execute_result",
          "data": {
            "text/plain": [
              "RandomForestRegressor(max_depth=2, random_state=0)"
            ]
          },
          "metadata": {},
          "execution_count": 67
        }
      ]
    },
    {
      "cell_type": "code",
      "source": [
        "fore.score(x_test, y_test)"
      ],
      "metadata": {
        "colab": {
          "base_uri": "https://localhost:8080/"
        },
        "id": "9lLLa0a3pEGp",
        "outputId": "dbd1f8eb-0c70-4a56-b660-e8fdf7af47e9"
      },
      "execution_count": null,
      "outputs": [
        {
          "output_type": "execute_result",
          "data": {
            "text/plain": [
              "0.8367063873230725"
            ]
          },
          "metadata": {},
          "execution_count": 68
        }
      ]
    },
    {
      "cell_type": "code",
      "source": [
        "y_forepred = fore.predict(x_test)\n",
        "print(metrics.mean_squared_error(y_test,y_forepred))\n",
        "print(mean_absolute_error(y_test, y_forepred))\n",
        "print(median_absolute_error(y_test, y_forepred))\n",
        "print(max_error(y_test, y_forepred))"
      ],
      "metadata": {
        "colab": {
          "base_uri": "https://localhost:8080/"
        },
        "outputId": "ba83cb25-c174-41fb-e0be-c2f7c69bfddf",
        "id": "niQecfYA3YbL"
      },
      "execution_count": null,
      "outputs": [
        {
          "output_type": "stream",
          "name": "stdout",
          "text": [
            "170909159.24124983\n",
            "9659.599128229118\n",
            "12392.202829321788\n",
            "30156.977939991048\n"
          ]
        }
      ]
    },
    {
      "cell_type": "markdown",
      "source": [
        "4.**SVM**"
      ],
      "metadata": {
        "id": "G3s_4Uv8rTW0"
      }
    },
    {
      "cell_type": "code",
      "source": [
        "from sklearn.svm import LinearSVR\n",
        "from sklearn.pipeline import make_pipeline\n",
        "from sklearn.preprocessing import StandardScaler"
      ],
      "metadata": {
        "id": "dON8CxuAp5H9"
      },
      "execution_count": null,
      "outputs": []
    },
    {
      "cell_type": "code",
      "source": [
        "sv = make_pipeline(StandardScaler(),LinearSVR(random_state=0, tol=1e-5))"
      ],
      "metadata": {
        "id": "TTvrjvbtq6fj"
      },
      "execution_count": null,
      "outputs": []
    },
    {
      "cell_type": "code",
      "source": [
        "sv.fit(x_train, y_train)"
      ],
      "metadata": {
        "colab": {
          "base_uri": "https://localhost:8080/"
        },
        "id": "PUb_FnqfrFtx",
        "outputId": "cb3fe970-b927-4318-8677-0ba0c1ae8a11"
      },
      "execution_count": null,
      "outputs": [
        {
          "output_type": "execute_result",
          "data": {
            "text/plain": [
              "Pipeline(steps=[('standardscaler', StandardScaler()),\n",
              "                ('linearsvr', LinearSVR(random_state=0, tol=1e-05))])"
            ]
          },
          "metadata": {},
          "execution_count": 72
        }
      ]
    },
    {
      "cell_type": "code",
      "source": [
        "sv.score(x_test, y_test)"
      ],
      "metadata": {
        "colab": {
          "base_uri": "https://localhost:8080/"
        },
        "id": "E4ryQ6IkrOA5",
        "outputId": "43f819f8-0a4e-4bb9-8d9e-116f2af17944"
      },
      "execution_count": null,
      "outputs": [
        {
          "output_type": "execute_result",
          "data": {
            "text/plain": [
              "-15.240953285060417"
            ]
          },
          "metadata": {},
          "execution_count": 73
        }
      ]
    },
    {
      "cell_type": "code",
      "source": [
        "y_svpred = sv.predict(x_test)\n",
        "print(metrics.mean_squared_error(y_test,y_svpred))\n",
        "print(mean_absolute_error(y_test, y_svpred))\n",
        "print(median_absolute_error(y_test, y_svpred))\n",
        "print(max_error(y_test, y_svpred))"
      ],
      "metadata": {
        "colab": {
          "base_uri": "https://localhost:8080/"
        },
        "outputId": "b9004d9e-8765-4234-f7ec-3a18b9ddafb7",
        "id": "V8U4gYYr3j3n"
      },
      "execution_count": null,
      "outputs": [
        {
          "output_type": "stream",
          "name": "stdout",
          "text": [
            "16998384846.306273\n",
            "126300.22846153844\n",
            "111276.02\n",
            "191013.39\n"
          ]
        }
      ]
    },
    {
      "cell_type": "markdown",
      "source": [
        "**5.Bayesian Regression** "
      ],
      "metadata": {
        "id": "v5h5MNIHuxU_"
      }
    },
    {
      "cell_type": "code",
      "source": [
        "breg = linear_model.BayesianRidge()\n",
        "breg.fit(x_train, y_train)"
      ],
      "metadata": {
        "colab": {
          "base_uri": "https://localhost:8080/"
        },
        "id": "fZ2KaVBoskOT",
        "outputId": "173f0426-7c57-4a4a-af8f-386946b87ee1"
      },
      "execution_count": null,
      "outputs": [
        {
          "output_type": "execute_result",
          "data": {
            "text/plain": [
              "BayesianRidge()"
            ]
          },
          "metadata": {},
          "execution_count": 75
        }
      ]
    },
    {
      "cell_type": "code",
      "source": [
        "breg.score(x_test, y_test)"
      ],
      "metadata": {
        "colab": {
          "base_uri": "https://localhost:8080/"
        },
        "id": "Ql98Qy2LtvuU",
        "outputId": "3e0248b3-13a4-4d21-ec12-37469209273e"
      },
      "execution_count": null,
      "outputs": [
        {
          "output_type": "execute_result",
          "data": {
            "text/plain": [
              "0.931317688217324"
            ]
          },
          "metadata": {},
          "execution_count": 76
        }
      ]
    },
    {
      "cell_type": "code",
      "source": [
        "y_bregpred = breg.predict(x_test)\n",
        "print(metrics.mean_squared_error(y_test,y_bregpred))\n",
        "print(mean_absolute_error(y_test, y_bregpred))\n",
        "print(median_absolute_error(y_test, y_bregpred))\n",
        "print(max_error(y_test, y_bregpred))"
      ],
      "metadata": {
        "colab": {
          "base_uri": "https://localhost:8080/"
        },
        "outputId": "2bbed2e3-b4c9-4cb3-e2de-e4dec6972869",
        "id": "iCEebPrJ37a7"
      },
      "execution_count": null,
      "outputs": [
        {
          "output_type": "stream",
          "name": "stdout",
          "text": [
            "71885458.15779555\n",
            "7085.534942154918\n",
            "6334.663074654702\n",
            "16445.74936419756\n"
          ]
        }
      ]
    },
    {
      "cell_type": "markdown",
      "source": [
        "**6.Polynomial regression**"
      ],
      "metadata": {
        "id": "VCeOeJX6zm_O"
      }
    },
    {
      "cell_type": "code",
      "source": [
        "from sklearn.preprocessing import PolynomialFeatures\n",
        "from sklearn.pipeline import Pipeline"
      ],
      "metadata": {
        "id": "_5cIauV0xuD7"
      },
      "execution_count": null,
      "outputs": []
    },
    {
      "cell_type": "code",
      "source": [
        "poly = PolynomialFeatures(degree=2)\n",
        "pmodel = Pipeline([('poly', PolynomialFeatures(degree=3)), ('linear', LinearRegression(fit_intercept=False))])\n",
        "pmodel.fit(x_train, y_train)"
      ],
      "metadata": {
        "colab": {
          "base_uri": "https://localhost:8080/"
        },
        "id": "TTATLoE8x6ek",
        "outputId": "9bef6f52-27ee-402f-9aed-d0471c218cc7"
      },
      "execution_count": null,
      "outputs": [
        {
          "output_type": "execute_result",
          "data": {
            "text/plain": [
              "Pipeline(steps=[('poly', PolynomialFeatures(degree=3)),\n",
              "                ('linear', LinearRegression(fit_intercept=False))])"
            ]
          },
          "metadata": {},
          "execution_count": 86
        }
      ]
    },
    {
      "cell_type": "code",
      "source": [
        "pmodel.score(x_test, y_test)"
      ],
      "metadata": {
        "colab": {
          "base_uri": "https://localhost:8080/"
        },
        "id": "bkOBcEBGzMjo",
        "outputId": "00dc5feb-7ec8-4cc5-ebe3-e6d76e5463f4"
      },
      "execution_count": null,
      "outputs": [
        {
          "output_type": "execute_result",
          "data": {
            "text/plain": [
              "-0.07871394316844516"
            ]
          },
          "metadata": {},
          "execution_count": 87
        }
      ]
    },
    {
      "cell_type": "code",
      "source": [
        "y_pmodelpred = pmodel.predict(x_test)\n",
        "print(metrics.mean_squared_error(y_test,y_pmodelpred))\n",
        "print(mean_absolute_error(y_test, y_pmodelpred))\n",
        "print(median_absolute_error(y_test, y_pmodelpred))\n",
        "print(max_error(y_test, y_pmodelpred))"
      ],
      "metadata": {
        "colab": {
          "base_uri": "https://localhost:8080/"
        },
        "outputId": "1e5f7d92-d778-48c7-b6d0-d3855912b880",
        "id": "5FMIQwkQ4EGc"
      },
      "execution_count": null,
      "outputs": [
        {
          "output_type": "stream",
          "name": "stdout",
          "text": [
            "1129022072.978986\n",
            "24115.372320450137\n",
            "17268.758719553516\n",
            "79261.52465314214\n"
          ]
        }
      ]
    },
    {
      "cell_type": "code",
      "source": [],
      "metadata": {
        "id": "27fHEaSUzdBE"
      },
      "execution_count": null,
      "outputs": []
    }
  ]
}